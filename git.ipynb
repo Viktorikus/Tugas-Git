{
 "cells": [
  {
   "cell_type": "code",
   "execution_count": null,
   "metadata": {},
   "outputs": [],
   "source": [
    "data_panen ={\n",
    "    'lokasi1': {\n",
    "        'nama_lokasi': 'Kebun A',\n",
    "        'hasil_panen': {\n",
    "            'padi': 1200,\n",
    "            'jagung': 800,\n",
    "            'kedelai': 500\n",
    "        }\n",
    "    },\n",
    "    'lokasi2': {\n",
    "        'nama_lokasi': 'Kebun B',\n",
    "        'hasil_panen': {\n",
    "            'padi': 1500,\n",
    "            'jagung': 900,\n",
    "            'kedelai': 450\n",
    "        }\n",
    "    },\n",
    "    'lokasi3': {\n",
    "        'nama_lokasi': 'Kebun C',\n",
    "        'hasil_panen': {\n",
    "            'padi': 1100,\n",
    "            'jagung': 750,\n",
    "            'kedelai': 600\n",
    "        }\n",
    "    },\n",
    "    'lokasi4': {\n",
    "        'nama_lokasi': 'Kebun D',\n",
    "        'hasil_panen': {\n",
    "            'padi': 1300,\n",
    "            'jagung': 850,\n",
    "            'kedelai': 550\n",
    "        }\n",
    "    },\n",
    "    'lokasi5': {\n",
    "        'nama_lokasi': 'Kebun E',\n",
    "        'hasil_panen': {\n",
    "            'padi': 1400,\n",
    "            'jagung': 950,\n",
    "            'kedelai': 480\n",
    "        }\n",
    "    }\n",
    "}"
   ]
  },
  {
   "cell_type": "code",
   "execution_count": null,
   "metadata": {},
   "outputs": [],
   "source": [
    "# Soal 1\n",
    "print(\"Data Panen: \")\n",
    "for j, i in data_panen.items():\n",
    "    print(f\"Lokasi: {j}, \\nNama Lokasi: {i['nama_lokasi']}, \\nHasil Panen: {i['hasil_panen']} \")\n",
    "    print(\"\")"
   ]
  },
  {
   "cell_type": "code",
   "execution_count": null,
   "metadata": {},
   "outputs": [],
   "source": [
    "# Soal 2\n",
    "print(\"Jumlah hasil Panen jagung dari Lokasi 2:\", data_panen['lokasi2']['hasil_panen']['jagung'])"
   ]
  },
  {
   "cell_type": "code",
   "execution_count": null,
   "metadata": {},
   "outputs": [],
   "source": [
    "# Soal 3\n",
    "print(\"Nama lokasi dari lokasi3:\", data_panen['lokasi3']['nama_lokasi'])"
   ]
  },
  {
   "cell_type": "code",
   "execution_count": null,
   "metadata": {},
   "outputs": [],
   "source": [
    "# Soal 4\n",
    "hasil_panen_padi = sum(val[\"hasil_panen\"][\"padi\"] for val in data_panen.values())\n",
    "hasil_panen_kedelai = sum(val[\"hasil_panen\"][\"kedelai\"] for val in data_panen.values())\n",
    "print(f\"Hasil Panen Padi: {hasil_panen_padi}, \\nHasil Panen Kedelai: {hasil_panen_kedelai}\")"
   ]
  },
  {
   "cell_type": "code",
   "execution_count": null,
   "metadata": {},
   "outputs": [],
   "source": [
    "# Soal 5\n",
    "total_padi = {}\n",
    "total_kedelai = {}\n",
    "\n",
    "for lokasi, data in data_panen.items():\n",
    "    total_padi[lokasi] = data['hasil_panen']['padi']\n",
    "    total_kedelai[lokasi] = data['hasil_panen']['kedelai']\n",
    "\n",
    "print(f\"Hasil Panen Padi Setiap Lokasi: {total_padi}\")\n",
    "print(f\"Hasil Panen Kedelai Setiap Lokasi: {total_kedelai}\")"
   ]
  },
  {
   "cell_type": "code",
   "execution_count": null,
   "metadata": {},
   "outputs": [],
   "source": [
    "# Soal 6\n",
    "for lokasi, detail in data_panen.items():\n",
    "    hasil_panen = detail['hasil_panen']\n",
    "    if hasil_panen['padi'] > 1300 or hasil_panen['jagung'] > 800:\n",
    "        print(f\"Lokasi {detail['nama_lokasi']} memerlukan perhatian khusus.\")\n",
    "    else:\n",
    "        print(f\"Lokasi {detail['nama_lokasi']} dalam kondisi baik.\")"
   ]
  },
  {
   "cell_type": "code",
   "execution_count": null,
   "metadata": {},
   "outputs": [],
   "source": [
    "print(\"Hello World\")"
   ]
  }
 ],
 "metadata": {
  "kernelspec": {
   "display_name": "Python 3",
   "language": "python",
   "name": "python3"
  },
  "language_info": {
   "name": "python",
   "version": "3.10.6"
  }
 },
 "nbformat": 4,
 "nbformat_minor": 2
}
